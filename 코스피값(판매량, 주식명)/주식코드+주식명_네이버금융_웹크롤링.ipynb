{
 "cells": [
  {
   "cell_type": "markdown",
   "metadata": {},
   "source": [
    "### 주식 코드 + 주식명 웹크롤링"
   ]
  },
  {
   "cell_type": "code",
   "execution_count": null,
   "metadata": {},
   "outputs": [],
   "source": [
    "BaseUrl = 'http://finance.naver.com/sise/entryJongmok.nhn?&page=' \n",
    "\n",
    "for i in range(1, 21): #코스피200은 page 20까지 존재\n",
    "    url = BaseUrl + str(i)\n",
    "    r = requests.get(url)\n",
    "    soup = BeautifulSoup(r.text, 'lxml')\n",
    "    items = soup.find_all('td', {'class': 'ctg'})\n",
    "\n",
    "    for item in items:\n",
    "        #print(item)\n",
    "        txt = item.a.get('href')\n",
    "        k = re.search('[\\d]+', txt) \n",
    "        if k:\n",
    "            code = k.group()\n",
    "            name = item.text\n",
    "            data = code, name\n",
    "\n",
    "            ## with 블록안에서 open, 블록밖에서 자동으로 close.\n",
    "            with open ('C:/Users/parkminji/Desktop/취직/방학 활동/미래에셋/분석/KOSPI200.txt', 'a', newline='') as f: \n",
    "                writer = csv.writer(f)\n",
    "                writer.writerow(data)"
   ]
  },
  {
   "cell_type": "code",
   "execution_count": null,
   "metadata": {},
   "outputs": [],
   "source": [
    "import FinanceDataReader as fdr"
   ]
  },
  {
   "cell_type": "code",
   "execution_count": null,
   "metadata": {},
   "outputs": [],
   "source": [
    "kp_df = fdr.StockListing(\"KOSPI\")"
   ]
  },
  {
   "cell_type": "code",
   "execution_count": null,
   "metadata": {},
   "outputs": [],
   "source": [
    "import pandas as pd"
   ]
  },
  {
   "cell_type": "markdown",
   "metadata": {},
   "source": [
    "주식 코드 주식명 불러오기"
   ]
  },
  {
   "cell_type": "code",
   "execution_count": null,
   "metadata": {},
   "outputs": [],
   "source": [
    "kp_sym_name = pd.read_csv('C:/Users/g20/OneDrive/바탕 화면/방학 활동/미래에셋/데이터/KOSPI200.txt'\n",
    "            ,sep = \",\" , engine='python', encoding = \"euc-kr\"\n",
    "            ,header = None,dtype = object)\n",
    "kp_sym_name.head()\n",
    "kp_sym_name = kp_sym_name.rename(columns={0:\"종목코드\",1:\"종목명\"})\n",
    "kp_sym_name.head()"
   ]
  }
 ],
 "metadata": {
  "kernelspec": {
   "display_name": "Python 3",
   "language": "python",
   "name": "python3"
  },
  "language_info": {
   "codemirror_mode": {
    "name": "ipython",
    "version": 3
   },
   "file_extension": ".py",
   "mimetype": "text/x-python",
   "name": "python",
   "nbconvert_exporter": "python",
   "pygments_lexer": "ipython3",
   "version": "3.8.3"
  }
 },
 "nbformat": 4,
 "nbformat_minor": 4
}
