{
  "nbformat": 4,
  "nbformat_minor": 0,
  "metadata": {
    "colab": {
      "name": "뉴스크롤링+단어개수.ipynb",
      "provenance": [],
      "collapsed_sections": []
    },
    "kernelspec": {
      "name": "python3",
      "display_name": "Python 3"
    },
    "language_info": {
      "name": "python"
    }
  },
  "cells": [
    {
      "cell_type": "code",
      "execution_count": null,
      "metadata": {
        "id": "Ky1bloByl_Nk"
      },
      "outputs": [],
      "source": [
        "## 네이버 기사, 키워드: 주식 최근 4000개 크롤링\n",
        "\n",
        "from tqdm import tqdm\n",
        "\n",
        "title_box = []\n",
        "content_box = []\n",
        "for n in tqdm(range(1, 4000, 10)):\n",
        "    url = requests.get(\"https://search.naver.com/search.naver?where=news&sm=tab_pge&query=%EC%A3%BC%EC%8B%9D&sort=0&photo=0&field=0&pd=0&ds=&de=&cluster_rank=18&mynews=0&office_type=0&office_section_code=0&news_office_checked=&nso=so:r,p:all,a:all&start={}\".format(n))\n",
        "    html = BeautifulSoup(url.text)\n",
        "    contents = html.find('ul',class_ = \"list_news\").find_all(\"li\", class_ = 'bx')\n",
        "    for i in contents:\n",
        "        title = i.find(\"a\", class_ = 'news_tit').text\n",
        "        content = i.find('div', class_ = 'news_dsc').text\n",
        "        title_box.append(title)\n",
        "        content_box.append(content)\n",
        "    time.sleep(1)"
      ]
    },
    {
      "cell_type": "code",
      "source": [
        "import re\n",
        "\n",
        "text = ''\n",
        "for i in range(4000):\n",
        "    text += title_box[i]\n",
        "    text += '\\n'\n",
        "    text += content_box[i]\n",
        "    text += '\\n'\n",
        "\n",
        "word_box = re.findall(\"[가-힣]+\", text)\n",
        "\n",
        "dic = {}\n",
        "for i in word_box:\n",
        "    if i not in dic.keys():\n",
        "        dic[i] = 1\n",
        "    else:\n",
        "        dic[i] += 1"
      ],
      "metadata": {
        "id": "wtNeecexmGnY"
      },
      "execution_count": null,
      "outputs": []
    },
    {
      "cell_type": "code",
      "source": [
        "불필요 = ['은','는','이','가','월','에','이번','것으로','조','시','년','밝혔다','있다',\n",
        "             '있는','을','위해','와','를','과','최근','이날','의','만','도','을','등']"
      ],
      "metadata": {
        "id": "OziG4lnXmJ0y"
      },
      "execution_count": null,
      "outputs": []
    },
    {
      "cell_type": "code",
      "source": [
        "for i in 불필요:\n",
        "    if i == dic.keys():\n",
        "        del dic[i]"
      ],
      "metadata": {
        "id": "VNfAIuSxmLif"
      },
      "execution_count": null,
      "outputs": []
    },
    {
      "cell_type": "code",
      "source": [
        "import matplotlib as mpl\n",
        "%config InlineBackend.figure_format = 'retina'\n",
        "\n",
        "!apt -qq -y install fonts-nanum\n",
        "\n",
        "import matplotlib.font_manager as fm\n",
        "fontpath = '/usr/share/fonts/truetype/nanum/NanumBarunGothic.ttf'\n",
        "font = fm.FontProperties(fname = fontpath, size =9)\n",
        "plt.rc('font', family = 'NanumBarunGothic')\n",
        "mpl.font_manager._rebuild()"
      ],
      "metadata": {
        "id": "IQRqibVFmNKc"
      },
      "execution_count": null,
      "outputs": []
    },
    {
      "cell_type": "code",
      "source": [
        "from wordcloud import WordCloud\n",
        "\n",
        "wc = WordCloud(font_path = \"NanumBarunGothic.ttf\", background_color='white')\n",
        "cloud = wc.generate_from_frequencies(dic)\n",
        "cloud.to_file(\"my_cloud.jpg\")"
      ],
      "metadata": {
        "id": "t1qdgZIHmNuk"
      },
      "execution_count": null,
      "outputs": []
    },
    {
      "cell_type": "code",
      "source": [
        "sorted(dic.items(),key = lambda x: x[1], reverse = True)"
      ],
      "metadata": {
        "id": "HjusYgaNmU45"
      },
      "execution_count": null,
      "outputs": []
    }
  ]
}